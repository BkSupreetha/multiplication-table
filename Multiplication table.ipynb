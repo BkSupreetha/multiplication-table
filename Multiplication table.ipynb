{
 "cells": [
  {
   "cell_type": "code",
   "execution_count": 18,
   "metadata": {},
   "outputs": [
    {
     "name": "stdout",
     "output_type": "stream",
     "text": [
      "enter a number to get respective multiplication table12\n",
      "\n",
      "THE MULTIPLICATION TABLE FOR  12 is as belo: \n",
      "___________________________________ \n",
      "\n",
      "12 * 1  =  12\n",
      "12 * 2  =  24\n",
      "12 * 3  =  36\n",
      "12 * 4  =  48\n",
      "12 * 5  =  60\n",
      "12 * 6  =  72\n",
      "12 * 7  =  84\n",
      "12 * 8  =  96\n",
      "12 * 9  =  108\n",
      "12 * 10  =  120\n",
      "___________________________________ "
     ]
    }
   ],
   "source": [
    "#maths table\n",
    "number=int(input(\"enter a number to get respective multiplication table\"))\n",
    "print(\"\\nTHE MULTIPLICATION TABLE FOR \",number,\"is as belo: \")\n",
    "print(\"_\"*35,end=\" \")\n",
    "print(\"\\n\")\n",
    "if(number!=0):\n",
    "    i=1\n",
    "    while(i<=10):\n",
    "        table=number*i\n",
    "        print(number,\"*\",i,\" = \",table)\n",
    "        i+=1\n",
    "print(\"_\"*35,end=\" \")"
   ]
  },
  {
   "cell_type": "code",
   "execution_count": null,
   "metadata": {},
   "outputs": [],
   "source": []
  }
 ],
 "metadata": {
  "kernelspec": {
   "display_name": "Python 3",
   "language": "python",
   "name": "python3"
  },
  "language_info": {
   "codemirror_mode": {
    "name": "ipython",
    "version": 3
   },
   "file_extension": ".py",
   "mimetype": "text/x-python",
   "name": "python",
   "nbconvert_exporter": "python",
   "pygments_lexer": "ipython3",
   "version": "3.8.5"
  }
 },
 "nbformat": 4,
 "nbformat_minor": 4
}
